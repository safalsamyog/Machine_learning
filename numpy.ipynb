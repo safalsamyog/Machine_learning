{
 "cells": [
  {
   "cell_type": "code",
   "execution_count": 90,
   "id": "19f58fc0",
   "metadata": {},
   "outputs": [
    {
     "name": "stdout",
     "output_type": "stream",
     "text": [
      "hello we are going to learn numpy\n"
     ]
    }
   ],
   "source": [
    "print(\"hello we are going to learn numpy\")"
   ]
  },
  {
   "cell_type": "code",
   "execution_count": 9,
   "id": "6b9dacc6",
   "metadata": {},
   "outputs": [
    {
     "data": {
      "text/plain": [
       "[array([ 2,  4,  6,  8, 10]),\n",
       " array([12, 14, 16, 18, 20]),\n",
       " array([10,  8,  6,  4,  2])]"
      ]
     },
     "execution_count": 9,
     "metadata": {},
     "output_type": "execute_result"
    }
   ],
   "source": [
    "import numpy as np\n",
    "a=np.array([\n",
    "    [1,2,3,4,5],\n",
    "    [6,7,8,9,10],\n",
    "    [5,4,3,2,1],\n",
    "])\n",
    "\n",
    "s=[j*2 for j in a]\n",
    "s\n"
   ]
  },
  {
   "cell_type": "code",
   "execution_count": 79,
   "id": "a8db4193",
   "metadata": {},
   "outputs": [
    {
     "data": {
      "text/plain": [
       "array([5, 6, 0, 8])"
      ]
     },
     "execution_count": 79,
     "metadata": {},
     "output_type": "execute_result"
    }
   ],
   "source": [
    "import numpy as np\n",
    "s=[]\n",
    "j=[]\n",
    "aa=np.array([1,2,0,4],dtype=bool)\n",
    "b=np.array([5,6,7,8])\n",
    "\n",
    "s.append(aa+b)\n",
    "s\n",
    "j.append(aa-b)\n",
    "\n",
    "k=aa*b\n",
    "k"
   ]
  },
  {
   "cell_type": "code",
   "execution_count": 87,
   "id": "2bea37b0",
   "metadata": {},
   "outputs": [
    {
     "data": {
      "text/plain": [
       "[1, 4, 9, 16]"
      ]
     },
     "execution_count": 87,
     "metadata": {},
     "output_type": "execute_result"
    }
   ],
   "source": [
    "aa=np.array([1,2,3,4])\n",
    "mm=list(map(lambda x:x*x,aa))#lambda function to get sequential array\n",
    "mm"
   ]
  },
  {
   "cell_type": "code",
   "execution_count": 88,
   "id": "67f02720",
   "metadata": {},
   "outputs": [
    {
     "data": {
      "text/plain": [
       "dtype('float64')"
      ]
     },
     "execution_count": 88,
     "metadata": {},
     "output_type": "execute_result"
    }
   ],
   "source": [
    "#now adding substracting and multiplaying the array\n",
    "w=np.array([1,2,3,4])\n",
    "x=np.array([5,3,8,9])\n",
    "sum=w+x\n",
    "sub=w-x\n",
    "mul=w*x\n",
    "div=w/x\n",
    "\n",
    "total=sum+sub+mul+div\n",
    "total.dtype\n",
    "\n"
   ]
  },
  {
   "cell_type": "code",
   "execution_count": 71,
   "id": "e7063904",
   "metadata": {
    "scrolled": false
   },
   "outputs": [
    {
     "name": "stdout",
     "output_type": "stream",
     "text": [
      "bool\n",
      "int32\n",
      "float64\n",
      "<U7\n"
     ]
    }
   ],
   "source": [
    "#going to the datatype\n",
    "#string , integer , float , boolean \n",
    "a=np.array([\n",
    "    [1,0,1,0,0],\n",
    "    [0,0,1,1,1],\n",
    "    [1,1,1,1,0],\n",
    "],dtype=bool)\n",
    "\n",
    "b=np.array([\n",
    "    [0,0,1,0,1],\n",
    "    [1,0,0,1,0],\n",
    "    [1,0,1,0,0],\n",
    "],dtype=bool)\n",
    "\n",
    "sum=a+b\n",
    "sum\n",
    "\n",
    "#finding the datatype of matrix\n",
    "\n",
    "z=np.array([True,False,True])\n",
    "print(z.dtype)\n",
    "c=np.array([3,4,5,6])\n",
    "print(c.dtype)\n",
    "f=np.array([1.1,456,2.34])\n",
    "print(f.dtype)\n",
    "e=np.array([\"hello\",\"hi\",\"welcome\"])\n",
    "print(e.dtype)"
   ]
  },
  {
   "cell_type": "code",
   "execution_count": 72,
   "id": "a2dc2025",
   "metadata": {},
   "outputs": [
    {
     "data": {
      "text/plain": [
       "'hello'"
      ]
     },
     "execution_count": 72,
     "metadata": {},
     "output_type": "execute_result"
    }
   ],
   "source": [
    "#reading file\n",
    "a=open(\"s.txt\",'r')\n",
    "s=a.read()\n",
    "s\n"
   ]
  },
  {
   "cell_type": "code",
   "execution_count": 66,
   "id": "ec3d53c7",
   "metadata": {},
   "outputs": [
    {
     "name": "stdout",
     "output_type": "stream",
     "text": [
      "1\n",
      "2\n"
     ]
    }
   ],
   "source": [
    "#now printing dimensional of array\n",
    "\n",
    "q=np.array([1,2,3])\n",
    "print(q.ndim)\n",
    "z=np.array([\n",
    "    [1,2,3],\n",
    "    [4,5,6],\n",
    "    [7,8,9],\n",
    "])\n",
    "print(z.ndim)\n",
    "\n"
   ]
  },
  {
   "cell_type": "code",
   "execution_count": 93,
   "id": "7267fb5c",
   "metadata": {},
   "outputs": [
    {
     "name": "stdout",
     "output_type": "stream",
     "text": [
      "6\n"
     ]
    }
   ],
   "source": [
    "#showing the sizes of array\n",
    "qx=np.array([\n",
    "    [1,2,3],\n",
    "    [4,5,6],\n",
    "])\n",
    "print(qx.size)#this is used to find out the number of element"
   ]
  },
  {
   "cell_type": "code",
   "execution_count": 100,
   "id": "72a075d5",
   "metadata": {},
   "outputs": [
    {
     "name": "stdout",
     "output_type": "stream",
     "text": [
      "[1 3 5 7 9]\n"
     ]
    }
   ],
   "source": [
    "#Now exploring the arranging the matrix\n",
    "bv=np.arange(1,45,2)#arange function is generating sequences of whole numbers with start, end , step arguments\n",
    "vv=np.arange(1,10,2)#project to show the even number\n",
    "ff=np.array(1,10)#project to show the odd number\n",
    "print(vv)"
   ]
  },
  {
   "cell_type": "code",
   "execution_count": 101,
   "id": "85d79c9e",
   "metadata": {},
   "outputs": [
    {
     "name": "stdout",
     "output_type": "stream",
     "text": [
      "(2, 4) (3, 4)\n"
     ]
    }
   ],
   "source": [
    "#NOw lets enjoy to find the row and columns of given matrix\n",
    "\n",
    "mat=np.array([\n",
    "    [1,2,3,4],\n",
    "    [4,5,6,7],\n",
    "])\n",
    "mat2=np.array([\n",
    "    [1,2,3,4],\n",
    "    [4,5,6,7],\n",
    "    [2,3,4,5],\n",
    "])\n",
    "print(mat.shape,mat2.shape)#shape classes uses to finf the given matrix number of rows and column"
   ]
  },
  {
   "cell_type": "code",
   "execution_count": 114,
   "id": "1c716d26",
   "metadata": {},
   "outputs": [
    {
     "name": "stdout",
     "output_type": "stream",
     "text": [
      "[[1. 1.]\n",
      " [1. 1.]\n",
      " [1. 1.]]\n",
      "float64 \n",
      " [[1. 1.]\n",
      " [1. 1.]\n",
      " [1. 1.]]\n",
      "enter the number of rows: 3\n",
      "enter the number of columns: 4\n",
      "enter the data type: int\n",
      "[[1 1 1 1]\n",
      " [1 1 1 1]\n",
      " [1 1 1 1]]\n",
      "[0. 0. 0. 0. 0. 0.]\n",
      "float64 \n",
      " [[0. 0. 0.]\n",
      " [0. 0. 0.]\n",
      " [0. 0. 0.]\n",
      " [0. 0. 0.]]\n",
      "enter the number of rows: 23\n",
      "enter the number of columns: 45\n",
      "enter the data type: int\n",
      "[[0 0 0 ... 0 0 0]\n",
      " [0 0 0 ... 0 0 0]\n",
      " [0 0 0 ... 0 0 0]\n",
      " ...\n",
      " [0 0 0 ... 0 0 0]\n",
      " [0 0 0 ... 0 0 0]\n",
      " [0 0 0 ... 0 0 0]]\n"
     ]
    }
   ],
   "source": [
    "#lets use the function of different matrix for generating the matrix\n",
    "zz=np.ones(6)#ones matrix gives us 1 matrix which means True\n",
    "print(z)\n",
    "#lets give it to dimensional \n",
    "\n",
    "z=np.ones((3,2))#we are passing three rows and two columns in tuples\n",
    "print(z.dtype,'\\n',z)\n",
    "\n",
    "#lets create simple projects\n",
    "\n",
    "#now\n",
    "row=int(input(\"enter the number of rows: \"))\n",
    "column=int(input(\"enter the number of columns: \"))\n",
    "dtype=input(\"enter the data type: \")\n",
    "one_matrix=np.ones((row,column),dtype=dtype)\n",
    "print(one_matrix)\n",
    "#project completed \n",
    "\n",
    "#================ Now are moving to the next==============\n",
    "#Now we are exploring zeros matrix\n",
    "\n",
    "zero=np.zeros(6)\n",
    "print(zero)\n",
    "z=np.zeros((4,3))#we are passing three rows and two columns in tuples\n",
    "print(z.dtype,'\\n',z)\n",
    "\n",
    "#lets create again same simple projects\n",
    "\n",
    "#now\n",
    "row=int(input(\"enter the number of rows: \"))\n",
    "column=int(input(\"enter the number of columns: \"))\n",
    "dtype=input(\"enter the data type: \")\n",
    "zero_matrix=np.zeros((row,column),dtype=dtype)\n",
    "print(zero_matrix)\n",
    "#project completed \n",
    "\n"
   ]
  },
  {
   "cell_type": "code",
   "execution_count": 124,
   "id": "41ddf5ff",
   "metadata": {},
   "outputs": [
    {
     "name": "stdout",
     "output_type": "stream",
     "text": [
      "[2.12199579e-313 9.33678148e-313]\n",
      "enter the number of rows: 4\n",
      "enter the number of columns: 5\n",
      "enter the data type: float\n",
      "[[0. 0. 0. 0. 0.]\n",
      " [0. 0. 0. 0. 0.]\n",
      " [0. 0. 0. 0. 0.]\n",
      " [0. 0. 0. 0. 0.]]\n"
     ]
    }
   ],
   "source": [
    "# lest's generate the the random values and make a beautiful matrix\n",
    "\n",
    "#let's start\n",
    "\n",
    "nm=np.empty(2)#empty function genrated us random value and carete a array\n",
    "\n",
    "print(nm)\n",
    "\n",
    "#lets nake simple project\n",
    "row=int(input(\"enter the number of rows: \"))\n",
    "column=int(input(\"enter the number of columns: \"))\n",
    "dtype=input(\"enter the data type: \")\n",
    "empty_matrix=np.zeros((row,column),dtype=dtype)\n",
    "print(empty_matrix)\n"
   ]
  },
  {
   "cell_type": "code",
   "execution_count": 130,
   "id": "ffb91134",
   "metadata": {},
   "outputs": [
    {
     "name": "stdout",
     "output_type": "stream",
     "text": [
      "40\n",
      "[ 9 11 10 10] [10 30]\n"
     ]
    }
   ],
   "source": [
    "#Doing the sum of matrix in standard way\n",
    "su=np.array([3,4,2,1])\n",
    "bu=np.array([6,7,8,9])\n",
    "sum=np.sum([su,bu])#it takes paramter in list but not support tuple\n",
    "print(sum)\n",
    "\n",
    "#lets print sum of matrix only rows\n",
    "sum1=np.sum([su,bu],axis=0)#0 means column\n",
    "sum2=np.sum([su,bu],axis=1)# 1 means rows\n",
    "print(sum1,sum2)"
   ]
  },
  {
   "cell_type": "code",
   "execution_count": 61,
   "id": "b114fbb5",
   "metadata": {},
   "outputs": [
    {
     "name": "stdout",
     "output_type": "stream",
     "text": [
      "6\n",
      "[[1 2]\n",
      " [3 4]\n",
      " [5 6]]\n",
      "15\n",
      "enter the number of rows: 3\n",
      "enter the number of columns: 5\n",
      "[[20 22 24 26 28]\n",
      " [30 32 34 36 38]\n",
      " [40 42 44 46 48]]\n",
      "hello\n",
      "[[1 2 3 4]\n",
      " [4 3 2 4]\n",
      " [9 6 8 5]]\n",
      "(3, 4)\n",
      "[1 2 3 4 4 3 2 4 9 6 8 5]\n",
      "[1 2 3 4 4 3 2 4 9 6 8 5]\n",
      "[[4 1]\n",
      " [3 2]\n",
      " [2 3]]\n",
      "[  1.    25.75  50.5   75.25 100.  ]\n",
      "(array([ 0.2       ,  8.51333333, 16.82666667, 25.14      , 33.45333333,\n",
      "       41.76666667, 50.08      ]), 8.313333333333333)\n",
      "[  1.    25.75  50.5   75.25 100.  ]\n",
      "(array([1. , 2.8, 4.6, 6.4, 8.2]), 1.8)\n",
      "enter starting value: 1\n",
      "enter end value: 10\n",
      "enter how many number to show: 3\n",
      "Enter True or Flase for common difference: True\n",
      "Do you want to see endpoint if yes:True or Flase: True\n",
      "enter int,float optional: int\n",
      "(array([ 1,  5, 10]), 4.5)\n"
     ]
    }
   ],
   "source": [
    "#================Adavnced Functions=================\n",
    "#let's explore the advanced function of numpy\n",
    "#ravel(), transpose(), reshape(), linspace(), flatten()\n",
    "import numpy as np\n",
    "#1. reshape() # it is a function used to make shape of array in rows and column\n",
    "#example\n",
    "qx=np.array([1,2,3,4,5,6])# we have the the six elements\n",
    "print(qx.size)# we have size\n",
    "# reshape(row,column) #it takes two arguments\n",
    "shape=qx.reshape(3,2)#its only support the valid shape if there is element then it only reshape by its conditon\n",
    "print(shape)\n",
    "\n",
    "#project\n",
    "data=np.arange(20,50,2)#genrating the sequences of numbers\n",
    "print(data.size)# The size is seventeen\n",
    "#note plz give valid shape other wise it throws error\n",
    "row=int(input(\"enter the number of rows: \"))\n",
    "column=int(input(\"enter the number of columns: \"))\n",
    "\n",
    "shape1=data.reshape(row,column)\n",
    "print(shape1)\n",
    "print(\"hello\")\n",
    "\n",
    "#ravel() function and flatten() function  both are same\n",
    "#it is used to change multi-dimensional array onto one dimensional 1d\n",
    "xx=np.array([\n",
    "    [1,2,3,4],\n",
    "    [4,3,2,4],\n",
    "    [9,6,8,5],\n",
    "],dtype=int,order='C')#order is used to show style of matrix F and C \n",
    "print(xx)\n",
    "print(xx.shape)\n",
    "\n",
    "#now chaging into onedimensional\n",
    "rav=xx.ravel()\n",
    "print(rav)\n",
    "flat=xx.flatten() # or we can use flat also\n",
    "print(flat)\n",
    "\n",
    "#Now it's times for transpose\n",
    "ds=np.array([\n",
    "    [4,3,2],\n",
    "    [1,2,3],\n",
    "])\n",
    "print(ds.transpose())# transpose is used to transpose the matrix\n",
    "\n",
    "# last and important is linspace\n",
    "#it is float and optional\n",
    "#(start, end, num=True, retstep=True)#retstep show us spaces \n",
    "#there is start and end num will give us how many number generated \n",
    "# it shows us float result \n",
    "z=np.linspace(1,100,num=5)#num=how many number to show\n",
    "print(z)\n",
    "zz=np.linspace(0.2,50.08,num=7,retstep=True)\n",
    "print(zz)\n",
    "print(z)\n",
    "zzz=np.linspace(1,10,num=5,retstep=True,endpoint=False)#if i dont want include last value then we should use endpoint=False\n",
    "#retstep shows us the step of number or common difference\n",
    "print(zzz)\n",
    "\n",
    "#let's do project\n",
    "start=int(input(\"enter starting value: \"))\n",
    "end=int(input(\"enter end value: \"))\n",
    "num=int(input(\"enter how many number to show: \"))\n",
    "retstep=input(\"Enter True or Flase for common difference: \")\n",
    "endpoint=input(\"Do you want to see endpoint if yes:True or Flase: \")\n",
    "dtype=input(\"enter int,float optional: \")\n",
    "lin=np.linspace(start,end,num=num,dtype=dtype,retstep=retstep,endpoint=endpoint)\n",
    "print(lin)\n"
   ]
  },
  {
   "cell_type": "code",
   "execution_count": 115,
   "id": "66f0179e",
   "metadata": {},
   "outputs": [
    {
     "name": "stdout",
     "output_type": "stream",
     "text": [
      "[ 7  9  8  8 13 17]\n",
      "[-5 -5  0  4  1 -1]\n",
      "[ 6 14 16 12 42 72]\n",
      "[0.16666667 0.28571429 1.         3.         1.16666667 0.88888889]\n",
      "[ 1  4 16 36 49 64]\n",
      "[0 0 0 1]\n",
      "[0 0 0 1]\n",
      "[12.+4.j]\n",
      "[0. 0. 0.]\n",
      "[1 2 4 6 7 8 6 7 4 2 6 9]\n"
     ]
    }
   ],
   "source": [
    "#we are going to learn airthmetic function\n",
    "\n",
    "import numpy as np\n",
    "a=np.array([1,2,4,6,7,8])\n",
    "b=np.array([6,7,4,2,6,9])\n",
    "\n",
    "sum=np.add(a,b)\n",
    "print(sum)\n",
    "sub=np.subtract(a,b)\n",
    "print(sub)\n",
    "\n",
    "mul=np.multiply(a,b)\n",
    "print(mul)\n",
    "\n",
    "div=np.divide(a,b)\n",
    "print(div)\n",
    "\n",
    "#Applying the power function\n",
    "power=np.power(a,2)#here it takes two argument (array_value,Times)\n",
    "print(power)\n",
    "\n",
    "#now remainder and mod\n",
    "#let's create our own array\n",
    "v=np.array([2,4,6,9])\n",
    "vv=np.array([1,2,3,4])\n",
    "mod=np.mod(v,vv)\n",
    "print(mod)\n",
    "\n",
    "remainder=np.remainder(v,vv)\n",
    "print(remainder)\n",
    "\n",
    "#angle and conjucative\n",
    "conjj=np.array([12-4j])\n",
    "con=np.conj(conjj)\n",
    "print(con)\n",
    "ang=np.array([31,50.5555,22/7])\n",
    "print(np.angle(ang,deg=True))\n",
    "\n",
    "con=np.concatenate((a,b))#concatenate add without real additon or join\n",
    "print(con)"
   ]
  },
  {
   "cell_type": "code",
   "execution_count": 71,
   "id": "5b3041ba",
   "metadata": {},
   "outputs": [
    {
     "name": "stdout",
     "output_type": "stream",
     "text": [
      "[[1 3]\n",
      " [2 4]]\n"
     ]
    }
   ],
   "source": [
    "#Random number in matrix\n",
    "ss=np.random.randint(1,5,dtype=int,size=(2,2))\n",
    "#(start,end,numberof_values,dtype,size=(row,column))\n",
    "print(ss)\n",
    "#it is used to genrating random value "
   ]
  },
  {
   "cell_type": "code",
   "execution_count": 55,
   "id": "0eb05c51",
   "metadata": {},
   "outputs": [
    {
     "name": "stdout",
     "output_type": "stream",
     "text": [
      "Help on function linspace in module numpy:\n",
      "\n",
      "linspace(start, stop, num=50, endpoint=True, retstep=False, dtype=None, axis=0)\n",
      "    Return evenly spaced numbers over a specified interval.\n",
      "    \n",
      "    Returns `num` evenly spaced samples, calculated over the\n",
      "    interval [`start`, `stop`].\n",
      "    \n",
      "    The endpoint of the interval can optionally be excluded.\n",
      "    \n",
      "    .. versionchanged:: 1.16.0\n",
      "        Non-scalar `start` and `stop` are now supported.\n",
      "    \n",
      "    .. versionchanged:: 1.20.0\n",
      "        Values are rounded towards ``-inf`` instead of ``0`` when an\n",
      "        integer ``dtype`` is specified. The old behavior can\n",
      "        still be obtained with ``np.linspace(start, stop, num).astype(int)``\n",
      "    \n",
      "    Parameters\n",
      "    ----------\n",
      "    start : array_like\n",
      "        The starting value of the sequence.\n",
      "    stop : array_like\n",
      "        The end value of the sequence, unless `endpoint` is set to False.\n",
      "        In that case, the sequence consists of all but the last of ``num + 1``\n",
      "        evenly spaced samples, so that `stop` is excluded.  Note that the step\n",
      "        size changes when `endpoint` is False.\n",
      "    num : int, optional\n",
      "        Number of samples to generate. Default is 50. Must be non-negative.\n",
      "    endpoint : bool, optional\n",
      "        If True, `stop` is the last sample. Otherwise, it is not included.\n",
      "        Default is True.\n",
      "    retstep : bool, optional\n",
      "        If True, return (`samples`, `step`), where `step` is the spacing\n",
      "        between samples.\n",
      "    dtype : dtype, optional\n",
      "        The type of the output array.  If `dtype` is not given, the data type\n",
      "        is inferred from `start` and `stop`. The inferred dtype will never be\n",
      "        an integer; `float` is chosen even if the arguments would produce an\n",
      "        array of integers.\n",
      "    \n",
      "        .. versionadded:: 1.9.0\n",
      "    \n",
      "    axis : int, optional\n",
      "        The axis in the result to store the samples.  Relevant only if start\n",
      "        or stop are array-like.  By default (0), the samples will be along a\n",
      "        new axis inserted at the beginning. Use -1 to get an axis at the end.\n",
      "    \n",
      "        .. versionadded:: 1.16.0\n",
      "    \n",
      "    Returns\n",
      "    -------\n",
      "    samples : ndarray\n",
      "        There are `num` equally spaced samples in the closed interval\n",
      "        ``[start, stop]`` or the half-open interval ``[start, stop)``\n",
      "        (depending on whether `endpoint` is True or False).\n",
      "    step : float, optional\n",
      "        Only returned if `retstep` is True\n",
      "    \n",
      "        Size of spacing between samples.\n",
      "    \n",
      "    \n",
      "    See Also\n",
      "    --------\n",
      "    arange : Similar to `linspace`, but uses a step size (instead of the\n",
      "             number of samples).\n",
      "    geomspace : Similar to `linspace`, but with numbers spaced evenly on a log\n",
      "                scale (a geometric progression).\n",
      "    logspace : Similar to `geomspace`, but with the end points specified as\n",
      "               logarithms.\n",
      "    \n",
      "    Examples\n",
      "    --------\n",
      "    >>> np.linspace(2.0, 3.0, num=5)\n",
      "    array([2.  , 2.25, 2.5 , 2.75, 3.  ])\n",
      "    >>> np.linspace(2.0, 3.0, num=5, endpoint=False)\n",
      "    array([2. ,  2.2,  2.4,  2.6,  2.8])\n",
      "    >>> np.linspace(2.0, 3.0, num=5, retstep=True)\n",
      "    (array([2.  ,  2.25,  2.5 ,  2.75,  3.  ]), 0.25)\n",
      "    \n",
      "    Graphical illustration:\n",
      "    \n",
      "    >>> import matplotlib.pyplot as plt\n",
      "    >>> N = 8\n",
      "    >>> y = np.zeros(N)\n",
      "    >>> x1 = np.linspace(0, 10, N, endpoint=True)\n",
      "    >>> x2 = np.linspace(0, 10, N, endpoint=False)\n",
      "    >>> plt.plot(x1, y, 'o')\n",
      "    [<matplotlib.lines.Line2D object at 0x...>]\n",
      "    >>> plt.plot(x2, y + 0.5, 'o')\n",
      "    [<matplotlib.lines.Line2D object at 0x...>]\n",
      "    >>> plt.ylim([-0.5, 1])\n",
      "    (-0.5, 1)\n",
      "    >>> plt.show()\n",
      "\n"
     ]
    }
   ],
   "source": [
    "help(np.linspace)\n"
   ]
  },
  {
   "cell_type": "code",
   "execution_count": 64,
   "id": "b8094fce",
   "metadata": {},
   "outputs": [
    {
     "name": "stdout",
     "output_type": "stream",
     "text": [
      "Help on built-in function randint:\n",
      "\n",
      "randint(...) method of numpy.random.mtrand.RandomState instance\n",
      "    randint(low, high=None, size=None, dtype=int)\n",
      "    \n",
      "    Return random integers from `low` (inclusive) to `high` (exclusive).\n",
      "    \n",
      "    Return random integers from the \"discrete uniform\" distribution of\n",
      "    the specified dtype in the \"half-open\" interval [`low`, `high`). If\n",
      "    `high` is None (the default), then results are from [0, `low`).\n",
      "    \n",
      "    .. note::\n",
      "        New code should use the ``integers`` method of a ``default_rng()``\n",
      "        instance instead; please see the :ref:`random-quick-start`.\n",
      "    \n",
      "    Parameters\n",
      "    ----------\n",
      "    low : int or array-like of ints\n",
      "        Lowest (signed) integers to be drawn from the distribution (unless\n",
      "        ``high=None``, in which case this parameter is one above the\n",
      "        *highest* such integer).\n",
      "    high : int or array-like of ints, optional\n",
      "        If provided, one above the largest (signed) integer to be drawn\n",
      "        from the distribution (see above for behavior if ``high=None``).\n",
      "        If array-like, must contain integer values\n",
      "    size : int or tuple of ints, optional\n",
      "        Output shape.  If the given shape is, e.g., ``(m, n, k)``, then\n",
      "        ``m * n * k`` samples are drawn.  Default is None, in which case a\n",
      "        single value is returned.\n",
      "    dtype : dtype, optional\n",
      "        Desired dtype of the result. Byteorder must be native.\n",
      "        The default value is int.\n",
      "    \n",
      "        .. versionadded:: 1.11.0\n",
      "    \n",
      "    Returns\n",
      "    -------\n",
      "    out : int or ndarray of ints\n",
      "        `size`-shaped array of random integers from the appropriate\n",
      "        distribution, or a single such random int if `size` not provided.\n",
      "    \n",
      "    See Also\n",
      "    --------\n",
      "    random_integers : similar to `randint`, only for the closed\n",
      "        interval [`low`, `high`], and 1 is the lowest value if `high` is\n",
      "        omitted.\n",
      "    Generator.integers: which should be used for new code.\n",
      "    \n",
      "    Examples\n",
      "    --------\n",
      "    >>> np.random.randint(2, size=10)\n",
      "    array([1, 0, 0, 0, 1, 1, 0, 0, 1, 0]) # random\n",
      "    >>> np.random.randint(1, size=10)\n",
      "    array([0, 0, 0, 0, 0, 0, 0, 0, 0, 0])\n",
      "    \n",
      "    Generate a 2 x 4 array of ints between 0 and 4, inclusive:\n",
      "    \n",
      "    >>> np.random.randint(5, size=(2, 4))\n",
      "    array([[4, 0, 2, 1], # random\n",
      "           [3, 2, 2, 0]])\n",
      "    \n",
      "    Generate a 1 x 3 array with 3 different upper bounds\n",
      "    \n",
      "    >>> np.random.randint(1, [3, 5, 10])\n",
      "    array([2, 2, 9]) # random\n",
      "    \n",
      "    Generate a 1 by 3 array with 3 different lower bounds\n",
      "    \n",
      "    >>> np.random.randint([1, 5, 7], 10)\n",
      "    array([9, 8, 7]) # random\n",
      "    \n",
      "    Generate a 2 by 4 array using broadcasting with dtype of uint8\n",
      "    \n",
      "    >>> np.random.randint([1, 3, 5, 7], [[10], [20]], dtype=np.uint8)\n",
      "    array([[ 8,  6,  9,  7], # random\n",
      "           [ 1, 16,  9, 12]], dtype=uint8)\n",
      "\n"
     ]
    }
   ],
   "source": [
    "help(np.random.randint)\n"
   ]
  },
  {
   "cell_type": "code",
   "execution_count": 124,
   "id": "6dca65bc",
   "metadata": {},
   "outputs": [
    {
     "name": "stdout",
     "output_type": "stream",
     "text": [
      "21.991148575128552\n",
      "-0.4040652194563607\n",
      "0.8141809705265618\n",
      "0.9358090133927123\n",
      "0.01745240643728351\n",
      "0.320040389379563\n",
      "17.746770784939255\n",
      "[ 0. 30. 45. 60. 90.]\n",
      "[ 3. -3.  5.  4.]\n",
      "[ 2. -4.  4.  4.]\n",
      "[ 2. -3.  4.  4.]\n",
      "[ 2.34 -3.23  4.5   4.  ]\n",
      "[ 4.          5.         10.         18.97366596  6.        ]\n"
     ]
    }
   ],
   "source": [
    "#Math function with numpy\n",
    "#there are many math functio\n",
    "#first trogonometric function\n",
    "pi=np.pi\n",
    "print(pi*7)\n",
    "#this genrates us pi value \n",
    "sin=np.sin(324)\n",
    "cos=np.cos(120)\n",
    "tan=np.tan(450)\n",
    "print(sin)\n",
    "print(cos)\n",
    "print(tan)\n",
    "q=np.pi/180\n",
    "print(np.sin(q))\n",
    "\n",
    "\n",
    "#tan-1(180) which means inverse value using numpy\n",
    "aa=np.tan(60)\n",
    "print(aa)\n",
    "bb=np.arctan(aa)\n",
    "print(np.degrees(bb))\n",
    "\n",
    "#lets do project\n",
    "ang=np.array([0,30,45,60,90])\n",
    "sin=np.sin(ang*np.pi/180)\n",
    "c=np.arcsin(sin)\n",
    "print(np.degrees(c))\n",
    "\n",
    "#Now around() , ceil(), floor()\n",
    "dd=np.array([2.335,-3.234,4.5,4])\n",
    "print(np.ceil(dd))#ceil return gretaer value than original and equal to original\n",
    "\n",
    "print(np.floor(dd))#floor return less value than original and equal to original\n",
    "print(np.around(dd))\n",
    "print(np.around(dd,decimals=2))#ddecimals defined how number to show in decimal\n",
    "\n",
    "az=np.array([16,25,100,360,36])\n",
    "print(np.sqrt(az))#it return square root value"
   ]
  },
  {
   "cell_type": "code",
   "execution_count": 103,
   "id": "373d0941",
   "metadata": {},
   "outputs": [
    {
     "name": "stdout",
     "output_type": "stream",
     "text": [
      "[1 2 3 4 6]\n",
      "[1 2 3 6 7 8]\n",
      "[7 8]\n"
     ]
    }
   ],
   "source": [
    "#Now we are going going to learn about Set in numpy\n",
    "# it is simple mathmatics to find the intersect and common \n",
    "a=np.array([1,2,3,4,6,7,8])\n",
    "b=np.array([6,4,5,2,1,3,4])\n",
    "intt=np.intersect1d(a,b)#it gives us common value\n",
    "print(intt)\n",
    "aa=np.array([\n",
    "    [1,2,3],\n",
    "    [6,4,1],\n",
    "    [6,7,8],\n",
    "])\n",
    "\n",
    "bb=np.array([\n",
    "    [3,2,1],\n",
    "    [6,7,8],\n",
    "    [9,0,9],\n",
    "])\n",
    "\n",
    "intt1=np.intersect1d(aa,bb)\n",
    "print(intt1)\n",
    "# we both case use 1d \n",
    "\n",
    "\n",
    "x=np.setdiff1d(a,b)\n",
    "print(x)#it gives us non-common as a output or diffeences among them\n"
   ]
  },
  {
   "cell_type": "code",
   "execution_count": 119,
   "id": "2697229d",
   "metadata": {},
   "outputs": [
    {
     "name": "stdout",
     "output_type": "stream",
     "text": [
      "[1 2 3 4 5]\n",
      "['a' 'b' 'c' 'd']\n",
      "[[5 6 7]\n",
      " [1 2 3]\n",
      " [3 5 8]]\n",
      "[[5 6 7]\n",
      " [1 2 3]\n",
      " [3 5 8]]\n",
      "[[1 3 2]\n",
      " [3 5 5]\n",
      " [7 6 8]]\n",
      "[[3 5 8]\n",
      " [1 3 2]\n",
      " [7 6 5]]\n"
     ]
    }
   ],
   "source": [
    "#let's use sorting method \n",
    "#sorting means simply arranging the number or string\n",
    "a=np.array([3,2,4,5,1],dtype=int)\n",
    "print(np.sort(a))\n",
    "b=np.array(['b','d','a','c'],dtype=str)\n",
    "print(np.sort(b))\n",
    "#we can sort both string and number \n",
    "\n",
    "#now sorting 2d matrix\n",
    "\n",
    "two=np.array([\n",
    "    [7,6,5],\n",
    "    [1,3,2],\n",
    "    [3,5,8],\n",
    "])\n",
    "print(np.sort(two))\n",
    "\n",
    "# lets gives to axis 1 means row o means column\n",
    "print(np.sort(two,axis=1))#sorting row wise\n",
    "print(np.sort(two,axis=0))#sorting column wise\n",
    "\n",
    "#lets reverse the matrix\n",
    "\n",
    "rev=np.flip(two,axis=0)\n",
    "print(rev)#flip() function used to reverse the value \n"
   ]
  },
  {
   "cell_type": "code",
   "execution_count": 121,
   "id": "390dd9bc",
   "metadata": {},
   "outputs": [
    {
     "name": "stdout",
     "output_type": "stream",
     "text": [
      "233\n",
      "1\n",
      "6\n"
     ]
    }
   ],
   "source": [
    "#Minimum and maximum of array\n",
    "a=np.array([100,233,44,32,2,1])\n",
    "print(np.max(a))\n",
    "print(np.min(a))\n",
    "print(np.size(a))#size is used as len\n"
   ]
  },
  {
   "cell_type": "code",
   "execution_count": 28,
   "id": "4cf1ca82",
   "metadata": {},
   "outputs": [
    {
     "name": "stdout",
     "output_type": "stream",
     "text": [
      "3 1\n",
      "5\n",
      "[[3 4 5 6 6]\n",
      " [7 8 9 0 5]]\n",
      "[[7 8 9 0 5]]\n",
      "1\n",
      "3\n",
      "[1 4 7]\n"
     ]
    }
   ],
   "source": [
    "#Indexing and slicing \n",
    "import numpy as np\n",
    "a=np.array([1,2,3,4,5,6,7])\n",
    "#lets index the 1d array\n",
    "print(a[2],a[0])\n",
    "\n",
    "b=np.array([\n",
    "    [3,4,5,6,6],\n",
    "    [7,8,9,0,5],\n",
    "])\n",
    "print(b[1][4])\n",
    "#indexing 2d array\n",
    "print(b[0:])#it will start from 0 and cover all\n",
    "print(b[1:])#it will print only one becuase there is no other any left \n",
    "#now we have done some slicing method \n",
    "\n",
    "#multidimensionla aary\n",
    "\n",
    "x=np.array([\n",
    "    [\n",
    "        [1,2,3,4],\n",
    "        [4,5,6,7],\n",
    "        [8,9,0,1],\n",
    "    ],\n",
    "    [\n",
    "        [3,4,5,6],\n",
    "        [6,7,8,9],\n",
    "        [8,9,0,5],\n",
    "    ]\n",
    "])\n",
    "\n",
    "index=x[0][0][0]\n",
    "print(index)\n",
    "\n",
    "index2=x[1][0][0]\n",
    "print(index2)\n",
    "\n",
    "print(a[0::3])#double dot is step"
   ]
  },
  {
   "cell_type": "code",
   "execution_count": 46,
   "id": "abb88027",
   "metadata": {},
   "outputs": [
    {
     "name": "stdout",
     "output_type": "stream",
     "text": [
      "18.0\n",
      "4.0\n",
      "24.40140511176706\n",
      "18.0\n",
      "595.4285714285714\n",
      "0.0\n"
     ]
    }
   ],
   "source": [
    "#statistics\n",
    "#imp\n",
    "m=np.array([1,2,3,4,45,5,66])\n",
    "print(np.mean(m))\n",
    "print(np.median(m))\n",
    "print(np.std(m))\n",
    "print(np.average(m))\n",
    "print(np.var(m))#it is variance\n",
    "\n"
   ]
  },
  {
   "cell_type": "code",
   "execution_count": 52,
   "id": "f104fdc4",
   "metadata": {},
   "outputs": [
    {
     "name": "stdout",
     "output_type": "stream",
     "text": [
      "8.000000000000002\n",
      "[[ 0.75  -0.25 ]\n",
      " [-0.625  0.375]]\n"
     ]
    }
   ],
   "source": [
    "#let's find the determinant of matrix\n",
    "i=np.array([\n",
    "    [3,2],\n",
    "    [5,6]\n",
    "])\n",
    "s=round(np.linalg.det(i))#using round to avoid decimal\n",
    "print(s)\n",
    "#abs() function gives us absolute value\n",
    "\n",
    "#let's find the inverse of matrix\n",
    "print(np.linalg.inv(i))"
   ]
  },
  {
   "cell_type": "code",
   "execution_count": 48,
   "id": "06a0ba09",
   "metadata": {},
   "outputs": [
    {
     "name": "stdout",
     "output_type": "stream",
     "text": [
      "enter value of x1: 1\n",
      "enter value of y1: 1\n",
      "enter value of x2: 1\n",
      "enter value of y2: -1\n",
      "enter conatant value: 4\n",
      "enter constant value: 3\n",
      "the value x and y: [1.11111111 1.44444444]\n"
     ]
    }
   ],
   "source": [
    "#linear algebra\n",
    "x1=int(input(\"enter value of x1: \"))\n",
    "y1=int(input(\"enter value of y1: \"))\n",
    "x2=int(input(\"enter value of x2: \"))\n",
    "y2=int(input(\"enter value of y2: \"))\n",
    "c1=int(input(\"enter conatant value: \"))\n",
    "c2=int(input(\"enter constant value: \"))\n",
    "a=np.array([\n",
    "    [x1,y1],\n",
    "    [x2,y2],\n",
    "])#its equation breakdown\n",
    "b=np.array([c1,c2])#it's constant\n",
    "s=np.linalg.solve(x,b)\n",
    "print(\"the value x and y:\",s)"
   ]
  },
  {
   "cell_type": "code",
   "execution_count": 39,
   "id": "11c217b6",
   "metadata": {},
   "outputs": [
    {
     "name": "stdout",
     "output_type": "stream",
     "text": [
      "[[1 4]\n",
      " [2 5]\n",
      " [3 6]\n",
      " [4 7]]\n",
      "[[1 2 3 4]\n",
      " [4 5 6 7]]\n",
      "[1 2 3 4 4 5 6 7]\n",
      "[[1 2 3 4]\n",
      " [4 5 6 7]]\n"
     ]
    }
   ],
   "source": [
    "#stack\n",
    "a=np.array([\n",
    "    [1,2,3,4],\n",
    "    [4,5,6,7]\n",
    "])\n",
    "xx=np.column_stack((a))#it takes argument as tuple\n",
    "print(xx)#it print as a colimn\n",
    "\n",
    "xy=np.row_stack((a))#row stack is used to print row only\n",
    "print(xy)\n",
    "h=np.hstack((a))\n",
    "print(h)#print horizontally\n",
    "hg=np.vstack((a))#print vertically\n",
    "print(hg)\n"
   ]
  },
  {
   "cell_type": "code",
   "execution_count": 31,
   "id": "0083aa88",
   "metadata": {},
   "outputs": [
    {
     "name": "stdout",
     "output_type": "stream",
     "text": [
      "[1 2 3 4 5 6 7]\n"
     ]
    }
   ],
   "source": [
    "#Io with numpy\n",
    "import numpy as np\n",
    "# aa=np.array([1,2,3,4,5,6,7])\n",
    "# np.save(\"safal\",aa)#it automatically saves with with numpy extension\n",
    "#or we can save as txt also\n",
    "#Now load save file to seee\n",
    "p=np.load(\"safal.npy\")\n",
    "print(p)"
   ]
  },
  {
   "cell_type": "code",
   "execution_count": null,
   "id": "bcd14a23",
   "metadata": {},
   "outputs": [],
   "source": []
  }
 ],
 "metadata": {
  "kernelspec": {
   "display_name": "Python 3",
   "language": "python",
   "name": "python3"
  },
  "language_info": {
   "codemirror_mode": {
    "name": "ipython",
    "version": 3
   },
   "file_extension": ".py",
   "mimetype": "text/x-python",
   "name": "python",
   "nbconvert_exporter": "python",
   "pygments_lexer": "ipython3",
   "version": "3.9.5"
  }
 },
 "nbformat": 4,
 "nbformat_minor": 5
}
